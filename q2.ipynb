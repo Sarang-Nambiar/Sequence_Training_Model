{
 "cells": [
  {
   "cell_type": "code",
   "execution_count": 1,
   "metadata": {},
   "outputs": [],
   "source": [
    "from collections import defaultdict\n",
    "\n",
    "with open(\"Data/ES/train\") as f:\n",
    "    es = f.read().splitlines()\n",
    "\n",
    "with open(\"Data/RU/train\") as f:\n",
    "    ru = f.read().splitlines()"
   ]
  },
  {
   "cell_type": "code",
   "execution_count": 2,
   "metadata": {},
   "outputs": [],
   "source": [
    "with open(\"Data/ES/dev.in\") as f:\n",
    "    dev_in_es = f.read().splitlines()\n",
    "with open(\"Data/ES/dev.out\") as f:\n",
    "    dev_out_es = f.read().splitlines()\n",
    "with open(\"Data/RU/dev.in\") as f:\n",
    "    dev_in_ru = f.read().splitlines()\n",
    "with open(\"Data/RU/dev.out\") as f:\n",
    "    test_out_ru = f.read().splitlines()"
   ]
  },
  {
   "cell_type": "code",
   "execution_count": 3,
   "metadata": {},
   "outputs": [],
   "source": [
    "def estimate_emission_params(train_data,k=1):\n",
    "\n",
    "    word_sentiment_counts = defaultdict(lambda: defaultdict(int))\n",
    "    sentiment_counts =  defaultdict(int)\n",
    "    emission_params = {}\n",
    "    \n",
    "    #getting the count(y) and count(y --> x)\n",
    "    for sentence in train_data:\n",
    "        try:\n",
    "            if(sentence!=\"\"):\n",
    "                x, label = sentence.split(\" \")\n",
    "        except:\n",
    "            continue\n",
    "\n",
    "        sentiment_counts[label]+=1\n",
    "\n",
    "        word_sentiment_counts[label][x]+=1\n",
    "\n",
    "\n",
    "\n",
    "    #calculating the emission parameters\n",
    "\n",
    "    for key in word_sentiment_counts:\n",
    "        for word in word_sentiment_counts[key]:\n",
    "            emission_params[(word,key)] = word_sentiment_counts[key][word]/(sentiment_counts[key])\n",
    "    # print(emission_params)\n",
    "    return emission_params, sentiment_counts"
   ]
  },
  {
   "cell_type": "code",
   "execution_count": 4,
   "metadata": {},
   "outputs": [
    {
     "name": "stdout",
     "output_type": "stream",
     "text": [
      "3.238656605240146e-05\n",
      "count ['O', 'B-positive', 'B-negative', 'B-neutral', 'I-neutral', 'I-positive', 'I-negative']\n"
     ]
    }
   ],
   "source": [
    "es_para, count =estimate_emission_params(es)\n",
    "print(es_para[(\"palo\", \"O\")])\n",
    "states = []\n",
    "for i in count.keys():\n",
    "    states.append(i)\n",
    "print(\"count\", states)"
   ]
  },
  {
   "cell_type": "code",
   "execution_count": 7,
   "metadata": {},
   "outputs": [],
   "source": [
    "def format_sentences(data):\n",
    "    formatted =[]\n",
    "    innerlist = []\n",
    "    for sentence in data:\n",
    "        try:\n",
    "            if(sentence!=\"\"):\n",
    "                x, label = sentence.split(\" \")\n",
    "                innerlist.append(label)\n",
    "            if(sentence==\"\"):\n",
    "                formatted.append(innerlist.copy())\n",
    "                innerlist.clear()\n",
    "                \n",
    "        except:\n",
    "            continue\n",
    "    # print(formatted)\n",
    "    return formatted"
   ]
  },
  {
   "cell_type": "code",
   "execution_count": 13,
   "metadata": {},
   "outputs": [],
   "source": [
    "from itertools import groupby\n",
    "\n",
    "def estimate_transition_parameters(sentences):\n",
    "    transition_counts = {}\n",
    "    state_counts = {}\n",
    "    list_of_sentences = format_sentences(sentences)\n",
    "    for one_sentence in list_of_sentences:\n",
    "        # print(one_sentence)\n",
    "        prev_state = 'START'\n",
    "        for state in one_sentence:\n",
    "            if state_counts.get(prev_state):\n",
    "                state_counts[prev_state] +=1\n",
    "            else:\n",
    "                state_counts[prev_state] = 1\n",
    "\n",
    "            if prev_state not in transition_counts:\n",
    "                transition_counts[prev_state] = {}\n",
    "            if state not in transition_counts[prev_state]:\n",
    "                transition_counts[prev_state][state] = 1\n",
    "            else:\n",
    "                transition_counts[prev_state][state] += 1\n",
    "            prev_state = state\n",
    "        if \"END\" not in transition_counts[prev_state]:\n",
    "            transition_counts[prev_state][\"END\"] = 1\n",
    "            state_counts[prev_state] +=1\n",
    "        else: \n",
    "            transition_counts[prev_state][\"END\"] +=1\n",
    "            state_counts[prev_state] +=1\n",
    "    # print(state_counts) \n",
    "\n",
    "\n",
    "    # Calculate transition probabilities and assign a default value of 0 if the entry doesn't exist\n",
    "    for from_state, to_states in transition_counts.items():\n",
    "        for state, x in to_states.items():\n",
    "            # print(from_state,state)\n",
    "            if state not in transition_counts[from_state]:\n",
    "                transition_counts[from_state][state] = 0\n",
    "            else:\n",
    "                transition_counts[from_state][state] = transition_counts[from_state][state] / state_counts[from_state]\n",
    "\n",
    "            \n",
    "\n",
    "    # print(\"transition\", transition_counts, \"state\", state_counts)       \n",
    "    return transition_counts"
   ]
  },
  {
   "cell_type": "code",
   "execution_count": 14,
   "metadata": {},
   "outputs": [
    {
     "data": {
      "text/plain": [
       "{'START': {'O': 0.9289176090468497,\n",
       "  'B-positive': 0.052234787291330104,\n",
       "  'B-negative': 0.014001077005923533,\n",
       "  'B-neutral': 0.004846526655896607},\n",
       " 'O': {'O': 0.8856896848630963,\n",
       "  'B-positive': 0.03650766316514551,\n",
       "  'END': 0.06344067504735663,\n",
       "  'B-negative': 0.012226623041157224,\n",
       "  'B-neutral': 0.0021353538832443605},\n",
       " 'B-positive': {'O': 0.871551724137931,\n",
       "  'I-positive': 0.11637931034482758,\n",
       "  'END': 0.008620689655172414,\n",
       "  'B-neutral': 0.0008620689655172414,\n",
       "  'B-positive': 0.002586206896551724},\n",
       " 'B-negative': {'O': 0.8110236220472441,\n",
       "  'I-negative': 0.1784776902887139,\n",
       "  'END': 0.010498687664041995},\n",
       " 'B-neutral': {'I-neutral': 0.20833333333333334, 'O': 0.7916666666666666},\n",
       " 'I-neutral': {'I-neutral': 0.6511627906976745, 'O': 0.3488372093023256},\n",
       " 'I-positive': {'I-positive': 0.5700636942675159,\n",
       "  'O': 0.4267515923566879,\n",
       "  'END': 0.0031847133757961785},\n",
       " 'I-negative': {'O': 0.39766081871345027, 'I-negative': 0.6023391812865497}}"
      ]
     },
     "execution_count": 14,
     "metadata": {},
     "output_type": "execute_result"
    }
   ],
   "source": [
    "estimate_transition_parameters(es)"
   ]
  },
  {
   "cell_type": "code",
   "execution_count": 15,
   "metadata": {},
   "outputs": [],
   "source": [
    "import math\n",
    "\n",
    "def viterbi_algorithm(sentence, transition_params, emission_params, states):\n",
    "    n = len(sentence)\n",
    "    viterbi = [{} for _ in range(n)]\n",
    "    backpointers = [{} for _ in range(n)]\n",
    "\n",
    "    # Initialization at time step 0\n",
    "    for state in states:\n",
    "        emission_prob = emission_params.get((sentence[0], state), 1e-10)\n",
    "        viterbi[0][state] = math.log(transition_params['START'].get(state, 1e-10)) + math.log(emission_prob)\n",
    "        backpointers[0][state] = 'START'\n",
    "\n",
    "    # Forward pass\n",
    "    for t in range(1, n):\n",
    "        for state in states:\n",
    "            max_prob = float('-inf')\n",
    "            prev_state = None\n",
    "            for prev_state in states:\n",
    "                transition_prob = transition_params[prev_state].get(state, 1e-10)\n",
    "                emission_prob = emission_params.get((sentence[t], state), 1e-10)\n",
    "                prob = viterbi[t - 1].get(prev_state,1e-10) + math.log(transition_prob) + math.log(emission_prob)\n",
    "                if prob > max_prob:\n",
    "                    max_prob = prob\n",
    "                    backpointers[t][state] = prev_state\n",
    "            viterbi[t][state] = max_prob\n",
    "\n",
    "    # Termination step\n",
    "    max_prob = float('-inf')\n",
    "    final_state = None\n",
    "    for state in states:\n",
    "        # print(viterbi[n - 1][state])\n",
    "        transition_prob = transition_params[state].get('STOP', 1e-10)\n",
    "        prob = viterbi[n - 1][state] + math.log(transition_prob)\n",
    "        if prob > max_prob:\n",
    "            max_prob = prob\n",
    "            final_state = state\n",
    "\n",
    "    # Backtracking step\n",
    "    best_path = [final_state]\n",
    "    for t in range(n - 1, 0, -1):\n",
    "        best_path.insert(0, backpointers[t][best_path[0]])\n",
    "\n",
    "    return best_path\n",
    "\n",
    "def run_viterbi_on_dev_set(dev_set, transition_params, emission_params, states):\n",
    "    output = []\n",
    "    list_of_sentences = [list(sub) for ele, sub in groupby(dev_set, key = bool) if ele]\n",
    "    for sentence in list_of_sentences:\n",
    "        best_path = viterbi_algorithm(sentence, transition_params, emission_params, states)\n",
    "        output.append(best_path)\n",
    "\n",
    "    return output"
   ]
  },
  {
   "cell_type": "code",
   "execution_count": 16,
   "metadata": {},
   "outputs": [],
   "source": [
    "def actual_word(test_set): \n",
    "    tags =[]\n",
    "    list_of_sentences = [list(sub) for ele, sub in groupby(test_set, key = bool) if ele]\n",
    "    for sentence in list_of_sentences:\n",
    "        innerlist =[]\n",
    "        for word in sentence:\n",
    "            innerlist.append(word)\n",
    "        tags.append(innerlist)\n",
    "    return tags"
   ]
  },
  {
   "cell_type": "code",
   "execution_count": 17,
   "metadata": {},
   "outputs": [],
   "source": [
    "transition_params_es = estimate_transition_parameters(es)\n",
    "emission_params_es,count = estimate_emission_params(es)\n",
    "transition_params_ru = estimate_transition_parameters(ru)\n",
    "emission_params_ru,count = estimate_emission_params(ru)\n",
    "\n",
    "states = []\n",
    "for i in count.keys():\n",
    "    states.append(i)\n",
    "predicted_tags_ES = run_viterbi_on_dev_set(dev_in_es, transition_params_es, emission_params_es, states)\n",
    "predicted_tags_RU = run_viterbi_on_dev_set(dev_in_ru, transition_params_ru, emission_params_ru, states)\n",
    "\n",
    "\n",
    "actual_words_ES = actual_word(dev_in_es)\n",
    "actual_words_RU = actual_word(dev_in_ru)"
   ]
  },
  {
   "cell_type": "code",
   "execution_count": 18,
   "metadata": {},
   "outputs": [],
   "source": [
    "import sys\n",
    "\n",
    "def compute_output(words, predicted_tags):\n",
    "    output_captured = []\n",
    "\n",
    "    for word, pred_tag in zip(words, predicted_tags):\n",
    "        for w, pred in zip(word, pred_tag):\n",
    "            output_captured.append(w + \" \" + pred)  # Append the combined word and tag\n",
    "        output_captured.append(\"\")  # Append an empty line after each sentence\n",
    "    return output_captured  # Return the captured output as a list\n",
    "\n",
    "\n",
    "# Call the compute_output function with actual_words and sentences_8\n",
    "output_captured_ES = compute_output(actual_words_ES, predicted_tags_ES)\n",
    "output_captured_RU = compute_output(actual_words_RU, predicted_tags_RU)\n",
    "\n",
    "# Write the captured output to a text file\n",
    "output_filename = \"dev.p2.out\"  # Change this to your desired filename\n",
    "output_path_ES = \"Data/ES/\"  # Change this to your desired folder\n",
    "output_path_RU = \"Data/RU/\"\n",
    "\n",
    "with open(output_path_ES + output_filename, \"w\") as file:\n",
    "    for line in output_captured_ES:\n",
    "        file.write(line + \"\\n\")\n",
    "\n",
    "with open(output_path_RU + output_filename, \"w\") as file:\n",
    "    for line in output_captured_RU:\n",
    "        file.write(line + \"\\n\")"
   ]
  },
  {
   "cell_type": "code",
   "execution_count": null,
   "metadata": {},
   "outputs": [],
   "source": []
  }
 ],
 "metadata": {
  "kernelspec": {
   "display_name": "Python 3",
   "language": "python",
   "name": "python3"
  },
  "language_info": {
   "codemirror_mode": {
    "name": "ipython",
    "version": 3
   },
   "file_extension": ".py",
   "mimetype": "text/x-python",
   "name": "python",
   "nbconvert_exporter": "python",
   "pygments_lexer": "ipython3",
   "version": "3.11.3"
  },
  "orig_nbformat": 4,
  "vscode": {
   "interpreter": {
    "hash": "aee8b7b246df8f9039afb4144a1f6fd8d2ca17a180786b69acc140d282b71a49"
   }
  }
 },
 "nbformat": 4,
 "nbformat_minor": 2
}
