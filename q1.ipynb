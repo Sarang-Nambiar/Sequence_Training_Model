{
 "cells": [
  {
   "cell_type": "code",
   "execution_count": 2,
   "metadata": {},
   "outputs": [],
   "source": [
    "from collections import  defaultdict\n",
    "\n",
    "with open(\"Data/ES/train\") as f:\n",
    "    es = f.read().splitlines()\n",
    "\n",
    "with open(\"Data/RU/train\") as f:\n",
    "    ru = f.read().splitlines()\n"
   ]
  },
  {
   "cell_type": "code",
   "execution_count": 3,
   "metadata": {},
   "outputs": [],
   "source": [
    "# CONSTANTS\n",
    "tags = [\"B-neutral\", \"B-positive\", \"B-negative\", \"I-neutral\", \"I-positive\", \"I-negative\", \"O\"]"
   ]
  },
  {
   "cell_type": "code",
   "execution_count": 4,
   "metadata": {},
   "outputs": [],
   "source": [
    "def estimate_emission_params(train_data,k=1):\n",
    "    word_sentiment_counts = defaultdict(lambda: defaultdict(int))\n",
    "    sentiment_counts =  defaultdict(int)\n",
    "    emission_params = {}\n",
    "    \n",
    "    #getting the count(y) and count(y --> x)\n",
    "    for sentence in train_data:\n",
    "        try:\n",
    "            if(sentence!=\"\"):\n",
    "                x, label = sentence.split(\" \")\n",
    "        except:\n",
    "            continue\n",
    "\n",
    "        sentiment_counts[label]+=1\n",
    "\n",
    "        word_sentiment_counts[label][x]+=1\n",
    "\n",
    "\n",
    "\n",
    "    #calculating the emission parameters\n",
    "\n",
    "    for key in word_sentiment_counts:\n",
    "        for word in word_sentiment_counts[key]:\n",
    "            emission_params[(word,key)] = word_sentiment_counts[key][word]/(sentiment_counts[key])\n",
    "    return emission_params"
   ]
  },
  {
   "cell_type": "code",
   "execution_count": 5,
   "metadata": {},
   "outputs": [],
   "source": [
    "def estimate_emission_params_unk(train_data, k=1):\n",
    "    word_sentiment_counts = defaultdict(lambda: defaultdict(int))\n",
    "    sentiment_counts =  defaultdict(int)\n",
    "    emission_params = {}\n",
    "    for sentence in train_data:\n",
    "        try:\n",
    "            if(sentence!=\"\"):\n",
    "                x, label = sentence.split(\" \")\n",
    "        except:\n",
    "            continue\n",
    "\n",
    "        sentiment_counts[label]+=1\n",
    "\n",
    "        word_sentiment_counts[label][x]+=1\n",
    "\n",
    "    for tag in tags:\n",
    "        word_sentiment_counts[tag][\"#UNK\"] = k\n",
    "\n",
    "    #calculating the emission parameters\n",
    "\n",
    "    for key in word_sentiment_counts:\n",
    "        for word in word_sentiment_counts[key]:\n",
    "            emission_params[(word,key)] = word_sentiment_counts[key][word]/(sentiment_counts[key] + k)\n",
    "    return emission_params"
   ]
  },
  {
   "cell_type": "code",
   "execution_count": 6,
   "metadata": {},
   "outputs": [],
   "source": [
    "# results of training using es and ru datasets for part 1\n",
    "result_es = estimate_emission_params(es)\n",
    "result_ru = estimate_emission_params(ru)\n",
    "# # results of training using es and ru datasets for part 2\n",
    "result_es_unk = estimate_emission_params_unk(es)\n",
    "result_ru_unk = estimate_emission_params_unk(ru)"
   ]
  },
  {
   "cell_type": "markdown",
   "metadata": {},
   "source": [
    "PART 3"
   ]
  },
  {
   "cell_type": "code",
   "execution_count": 7,
   "metadata": {},
   "outputs": [],
   "source": [
    "# Calculating the y_optimal using training_data\n",
    "def calc_y_optimal(emission_params):\n",
    "    y_optimal = defaultdict(str)\n",
    "    for word, sentiment in emission_params:\n",
    "        max1 = []\n",
    "        for tag in tags:\n",
    "            if (word, tag) in emission_params:\n",
    "                max1.append((tag, emission_params[(word, tag)]))\n",
    "        y_optimal[word] = max(max1, key=lambda x: x[1])[0]\n",
    "    return y_optimal"
   ]
  },
  {
   "cell_type": "code",
   "execution_count": 8,
   "metadata": {},
   "outputs": [],
   "source": [
    "# writing the output onto dev.p1.out\n",
    "def write_output(path, emission_params, emission_unk):\n",
    "    y_optimal = calc_y_optimal(emission_params)\n",
    "    with open(f'{path}/dev.in') as f:\n",
    "        x = f.readlines()\n",
    "    with open(f'{path}/dev.p1.out', 'w') as f:\n",
    "        for test_word in x:\n",
    "            if test_word == '\\n':\n",
    "                f.write(test_word)\n",
    "            else:\n",
    "                word = test_word.strip()\n",
    "                if word in y_optimal:\n",
    "                    f.write(word + ' ' + y_optimal[word] + '\\n')\n",
    "                else:\n",
    "                    # if the word is an unk, use the emission_unk function to find the y_max and write it into the file\n",
    "                    e_max = 0\n",
    "                    y_max = \"\"\n",
    "                    for tag in tags:\n",
    "                        e = emission_unk[(\"#UNK\", tag)]\n",
    "                        if e_max < e:\n",
    "                            y_max = tag\n",
    "                            e_max = e\n",
    "                    f.write(word +\" \"+y_max+\"\\n\")"
   ]
  },
  {
   "cell_type": "markdown",
   "metadata": {},
   "source": [
    "# Instructions to run for each case\n",
    "\n",
    "- Run both the cell below after making sure all the above cells have been executed.\n",
    "- After running the cell below, a dev.p1.out file should appear in the Data/ES and Data/RU folder respectively.\n",
    "- Then you could run the evalScript.py to get the precision, recall and F-score."
   ]
  },
  {
   "cell_type": "code",
   "execution_count": 9,
   "metadata": {},
   "outputs": [],
   "source": [
    "# writing for ES dataset\n",
    "write_output(\"./Data/ES\", result_es, result_es_unk)\n",
    "\n",
    "# writing for RU dataset \n",
    "write_output(\"./Data/RU\", result_ru, result_ru_unk)"
   ]
  },
  {
   "cell_type": "markdown",
   "metadata": {},
   "source": [
    "## Evaluation Result:\n",
    "\n",
    "### ES (Spanish) \n",
    "- **Entity Statistics:**\n",
    "  - Gold data entities: `229`\n",
    "  - Predicted entities: `1466`\n",
    "  - Correct entities: `178`\n",
    "    - **Precision:** `0.1214`\n",
    "    - **Recall:** `0.7773`\n",
    "    - **F-score:** `0.2100`\n",
    "\n",
    "- **Sentiment Statistics:**\n",
    "  - Correct sentiment count: `97`\n",
    "    - **Precision:** `0.0662`\n",
    "    - **Recall:** `0.4236`\n",
    "    - **F-score:** `0.1145`\n",
    "\n",
    "---\n",
    "\n",
    "### RU (Russian)\n",
    "- **Entity Statistics:**\n",
    "  - Gold data entities: `389`\n",
    "  - Predicted entities: `1816`\n",
    "  - Correct entities: `266`\n",
    "    - **Precision:** `0.1465`\n",
    "    - **Recall:** `0.6838`\n",
    "    - **F-score:** `0.2413`\n",
    "\n",
    "- **Sentiment Statistics:**\n",
    "  - Correct sentiment count: `129`\n",
    "    - **Precision:** `0.0710`\n",
    "    - **Recall:** `0.3316`\n",
    "    - **F-score:** `0.1170`\n"
   ]
  }
 ],
 "metadata": {
  "kernelspec": {
   "display_name": "Python 3.10.12 64-bit",
   "language": "python",
   "name": "python3"
  },
  "language_info": {
   "codemirror_mode": {
    "name": "ipython",
    "version": 3
   },
   "file_extension": ".py",
   "mimetype": "text/x-python",
   "name": "python",
   "nbconvert_exporter": "python",
   "pygments_lexer": "ipython3",
   "version": "3.9.12"
  },
  "orig_nbformat": 4,
  "vscode": {
   "interpreter": {
    "hash": "bd385fe162c5ca0c84973b7dd5c518456272446b2b64e67c2a69f949ca7a1754"
   }
  }
 },
 "nbformat": 4,
 "nbformat_minor": 2
}
