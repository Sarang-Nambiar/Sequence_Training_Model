{
 "cells": [
  {
   "cell_type": "code",
   "execution_count": null,
   "metadata": {},
   "outputs": [],
   "source": [
    "from collections import  defaultdict\n",
    "\n",
    "with open(\"Data/ES/train\") as f:\n",
    "    es = f.read().splitlines()\n",
    "\n",
    "with open(\"Data/RU/train\") as f:\n",
    "    ru = f.read().splitlines()"
   ]
  },
  {
   "cell_type": "code",
   "execution_count": null,
   "metadata": {},
   "outputs": [],
   "source": [
    "def estimate_emission_params(train_data,k=1):\n",
    "\n",
    "    word_sentiment_counts = defaultdict(lambda: defaultdict(int))\n",
    "    sentiment_counts =  defaultdict(int)\n",
    "    emission_params = {}\n",
    "    \n",
    "    #getting the count(y) and count(y --> x)\n",
    "    for sentence in train_data:\n",
    "        try:\n",
    "            if(sentence!=\"\"):\n",
    "                x, label = sentence.split(\" \")\n",
    "        except:\n",
    "            continue\n",
    "\n",
    "        sentiment_counts[label]+=1\n",
    "\n",
    "        word_sentiment_counts[label][x]+=1\n",
    "\n",
    "\n",
    "\n",
    "    #calculating the emission parameters\n",
    "\n",
    "    for key in word_sentiment_counts:\n",
    "        for word in word_sentiment_counts[key]:\n",
    "            emission_params[(word,key)] = word_sentiment_counts[key][word]/(sentiment_counts[key])\n",
    "    return emission_params, sentiment_counts"
   ]
  },
  {
   "cell_type": "code",
   "execution_count": null,
   "metadata": {},
   "outputs": [],
   "source": [
    "#Getting the data from ES \n",
    "# train_es = read_data('./Data/ES/train')\n",
    "\n",
    "def estimate_emission_params_unk(x,y,k=1):\n",
    "    if x==\"#UNK\":\n",
    "        return k/(y+k)\n",
    "\n",
    "\n",
    "    # count_y_to_x, count_y = 0, 0\n",
    "    # for i in range(len(tags)):\n",
    "    #     if tags[i] == y:\n",
    "    #         count_y += 1\n",
    "    #         if words[i] == x:\n",
    "    #             count_y_to_x += 1\n",
    "    # return (count_y_to_x) / (count_y + k)\n",
    "    \n",
    "    # word_sentiment_counts = defaultdict(lambda: defaultdict(int))\n",
    "    # sentiment_counts = defaultdict(lambda: 1)\n",
    "    # emission_params = {}\n",
    "    \n",
    "    # #getting the count(y) and count(y --> x)\n",
    "    # for sentence in train_data:\n",
    "    #     try:\n",
    "    #         if(sentence!=\"\"):\n",
    "    #             x, label = sentence.split(\" \")\n",
    "    #     except:\n",
    "    #         continue\n",
    "\n",
    "    #     sentiment_counts[label]+=1\n",
    "\n",
    "    #     word_sentiment_counts[label][x]+=1\n",
    "\n",
    "\n",
    "    # #changing count(y->x) when x=\"#UNK\"\n",
    "    # for key in word_sentiment_counts:\n",
    "    #     word_sentiment_counts[key][\"#UNK#\"]=k\n",
    "\n",
    "\n",
    "    # #calculating the emission parameters\n",
    "\n",
    "    # for key in word_sentiment_counts:\n",
    "    #     for word in word_sentiment_counts[key]:\n",
    "    #         emission_params[(word,key)] = word_sentiment_counts[key][word]/(sentiment_counts[key]+k)\n",
    "    # return emission_params\n"
   ]
  },
  {
   "cell_type": "code",
   "execution_count": null,
   "metadata": {},
   "outputs": [],
   "source": [
    "# results of training using es and ru datasets for part 1\n",
    "result_es = estimate_emission_params(es)\n",
    "result_ru = estimate_emission_params(ru)\n",
    "# # results of training using es and ru datasets for part 2\n",
    "# result_es_unk = estimate_emission_params_unk(es)\n",
    "# result_ru_unk = estimate_emission_params_unk(ru)"
   ]
  },
  {
   "cell_type": "markdown",
   "metadata": {},
   "source": [
    "PART 3"
   ]
  },
  {
   "cell_type": "code",
   "execution_count": null,
   "metadata": {},
   "outputs": [],
   "source": [
    "tags = [\"B-neutral\", \"B-positive\", \"B-negative\", \"I-neutral\", \"I-positive\", \"I-negative\", \"O\"]\n",
    "\n",
    "result_es, count_y = estimate_emission_params(es)\n",
    "y_optimal = defaultdict(str)\n",
    "for word, sentiment in result_es:\n",
    "    max1 = []\n",
    "    for tag in tags:\n",
    "        if (word, tag) in result_es:\n",
    "            max1.append((tag, result_es[(word, tag)]))\n",
    "    y_optimal[word] = max(max1, key=lambda x: x[1])[0]"
   ]
  },
  {
   "cell_type": "code",
   "execution_count": null,
   "metadata": {},
   "outputs": [],
   "source": [
    "with open('./Data/ES/dev.in') as f:\n",
    "    x = f.readlines()\n",
    "with open('./EvalScript/dev.p1.out', 'w+') as f:\n",
    "        \n",
    "    for i in x:\n",
    "        if i == '\\n':\n",
    "            f.write(i)\n",
    "        else:\n",
    "            word = i.strip()\n",
    "            if word in y_optimal:\n",
    "                f.write(word + ' ' + y_optimal[word] + '\\n')\n",
    "            else:\n",
    "                # if the word is an unk, use the emission_unk function to find the y_max and write it into the file\n",
    "                y_max_prob=0\n",
    "                y_max=\"\"\n",
    "                for y in tags:\n",
    "                    ep=estimate_emission_params_unk(\"#UNK\",y,count_y)\n",
    "                    if ep>y_max_prob:\n",
    "                        y_max_prob=ep\n",
    "                        y_max=y\n",
    "                f.write(word +\" \"+y_max+\"\\n\")\n",
    "        "
   ]
  },
  {
   "cell_type": "code",
   "execution_count": null,
   "metadata": {},
   "outputs": [],
   "source": [
    "# Calculating the Precision, Recall and F score for the given data\n",
    "def scores(labels, correct_labels):\n",
    "    correct = 0\n",
    "    total_predicted = 0\n",
    "    for word in labels:\n",
    "        if labels[word] == correct_labels[word]:\n",
    "            correct += 1\n",
    "        total_predicted += 1\n",
    "        \n",
    "    precision = correct / total\n",
    "\n",
    "\n",
    "def F_score(recall,precision):\n",
    "    v1=1/precision\n",
    "    v2=1/recall\n",
    "    f=2/(v1+v2)"
   ]
  }
 ],
 "metadata": {
  "kernelspec": {
   "display_name": "Python 3.10.12 64-bit",
   "language": "python",
   "name": "python3"
  },
  "language_info": {
   "codemirror_mode": {
    "name": "ipython",
    "version": 3
   },
   "file_extension": ".py",
   "mimetype": "text/x-python",
   "name": "python",
   "nbconvert_exporter": "python",
   "pygments_lexer": "ipython3",
   "version": "3.9.12"
  },
  "orig_nbformat": 4,
  "vscode": {
   "interpreter": {
    "hash": "bd385fe162c5ca0c84973b7dd5c518456272446b2b64e67c2a69f949ca7a1754"
   }
  }
 },
 "nbformat": 4,
 "nbformat_minor": 2
}
