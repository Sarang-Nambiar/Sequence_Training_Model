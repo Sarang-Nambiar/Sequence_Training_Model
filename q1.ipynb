{
 "cells": [
  {
   "cell_type": "markdown",
   "metadata": {},
   "source": [
    "PART 2"
   ]
  },
  {
   "cell_type": "code",
   "execution_count": 15,
   "metadata": {},
   "outputs": [],
   "source": [
    "from collections import  defaultdict\n",
    "\n",
    "with open(\"Data/ES/train\") as f:\n",
    "    es = f.read().splitlines()\n",
    "\n",
    "with open(\"Data/RU/train\") as f:\n",
    "    ru = f.read().splitlines()\n",
    "\n",
    "\n"
   ]
  },
  {
   "cell_type": "code",
   "execution_count": 16,
   "metadata": {},
   "outputs": [],
   "source": [
    "\n",
    "def estimate_emission_params(train_data,k=1):\n",
    "\n",
    "    word_sentiment_counts = defaultdict(lambda: defaultdict(int))\n",
    "    sentiment_counts =  defaultdict(int)\n",
    "    emission_params = {}\n",
    "    \n",
    "    #getting the count(y) and count(y --> x)\n",
    "    for sentence in train_data:\n",
    "        try:\n",
    "            if(sentence!=\"\"):\n",
    "                x, label = sentence.split(\" \")\n",
    "        except:\n",
    "            continue\n",
    "\n",
    "        sentiment_counts[label]+=1\n",
    "\n",
    "        word_sentiment_counts[label][x]+=1\n",
    "\n",
    "\n",
    "\n",
    "    #calculating the emission parameters\n",
    "\n",
    "    for key in word_sentiment_counts:\n",
    "        for word in word_sentiment_counts[key]:\n",
    "            emission_params[(word,key)] = word_sentiment_counts[key][word]/(sentiment_counts[key])\n",
    "    return emission_params"
   ]
  },
  {
   "cell_type": "code",
   "execution_count": null,
   "metadata": {},
   "outputs": [],
   "source": []
  },
  {
   "cell_type": "code",
   "execution_count": 17,
   "metadata": {},
   "outputs": [],
   "source": [
    "#Getting the data from ES \n",
    "# train_es = read_data('./Data/ES/train')\n",
    "\n",
    "def estimate_emission_params_unk(train_data,k=1):\n",
    "\n",
    "    word_sentiment_counts = defaultdict(lambda: defaultdict(int))\n",
    "    sentiment_counts = defaultdict(lambda: 1)\n",
    "    emission_params = {}\n",
    "    \n",
    "    #getting the count(y) and count(y --> x)\n",
    "    for sentence in train_data:\n",
    "        try:\n",
    "            if(sentence!=\"\"):\n",
    "                x, label = sentence.split(\" \")\n",
    "        except:\n",
    "            continue\n",
    "\n",
    "        sentiment_counts[label]+=1\n",
    "\n",
    "        word_sentiment_counts[label][x]+=1\n",
    "\n",
    "\n",
    "    #changing count(y->x) when x=\"#UNK\"\n",
    "    for key in word_sentiment_counts:\n",
    "        word_sentiment_counts[key][\"#UNK#\"]=k\n",
    "\n",
    "\n",
    "    #calculating the emission parameters\n",
    "\n",
    "    for key in word_sentiment_counts:\n",
    "        for word in word_sentiment_counts[key]:\n",
    "            emission_params[(word,key)] = word_sentiment_counts[key][word]/(sentiment_counts[key]+k)\n",
    "    return emission_params\n"
   ]
  },
  {
   "cell_type": "code",
   "execution_count": 18,
   "metadata": {},
   "outputs": [],
   "source": [
    "# results of training using es and ru datasets for part 1\n",
    "result_es = estimate_emission_params(es)\n",
    "result_ru = estimate_emission_params(ru)\n",
    "# results of training using es and ru datasets for part 2\n",
    "result_es_unk = estimate_emission_params_unk(es)\n",
    "result_ru_unk = estimate_emission_params_unk(ru)"
   ]
  },
  {
   "cell_type": "markdown",
   "metadata": {},
   "source": [
    "PART 3"
   ]
  },
  {
   "cell_type": "code",
   "execution_count": 19,
   "metadata": {},
   "outputs": [],
   "source": [
    "with open(\"Data/ES/dev.in\") as f:\n",
    "    dev_in_es = f.read().splitlines()\n",
    "with open(\"Data/ES/dev.out\") as f:\n",
    "    dev_out_es = f.read().splitlines()\n",
    "with open(\"Data/RU/dev.in\") as f:\n",
    "    dev_in_ru = f.read().splitlines()\n",
    "with open(\"Data/RU/dev.out\") as f:\n",
    "    test_out_ru = f.read().splitlines()"
   ]
  },
  {
   "cell_type": "code",
   "execution_count": null,
   "metadata": {},
   "outputs": [],
   "source": []
  },
  {
   "cell_type": "code",
   "execution_count": 20,
   "metadata": {},
   "outputs": [],
   "source": [
    "#FINDING THE MAXIMUM VLLAUE OF e(x|y)\n",
    "\n",
    "\n",
    "##########################################################\n",
    "#updtaing the k value for the new strings not seen by the training data\n",
    "k=0\n",
    "for word in dev_in_es:\n",
    "    if word not in result_es_unk:\n",
    "        k += 1\n",
    "##########################################################\n",
    "#Stroing the probablities and tags into holders\n",
    "em_prm=estimate_emission_params_unk(es,k)\n",
    "holder={}\n",
    "holder2={}\n",
    "for i in em_prm:\n",
    "    if i[0] not in holder:\n",
    "        holder[i[0]]=[]\n",
    "        holder2[i[0]]=[]\n",
    "    holder[i[0]].append(em_prm[i])   \n",
    "    holder2[i[0]].append(i[1])   \n",
    "##########################################################\n",
    "# Getting the maximum value of the probabiliites and using \n",
    "# it to get the index to gewt the correct tag\n",
    "y_star={}\n",
    "for i in holder:\n",
    "    index=holder[i].index(max(holder[i]))\n",
    "    y_star[i]=holder2[i][index]\n",
    "##########################################################\n",
    "# writing y_star into dev.p1.out\n",
    "\n",
    "with open('dev.p1.out', 'w', encoding='utf-8') as dev_out_file:\n",
    "    for predicted_labels in y_star:\n",
    "        dev_out_file.write(f\"{predicted_labels}\\t{y_star[predicted_labels]}\\n\")\n",
    "    dev_out_file.write('\\n')"
   ]
  },
  {
   "cell_type": "code",
   "execution_count": 21,
   "metadata": {},
   "outputs": [],
   "source": [
    "# Calculating the Precision, Recall and F score for the given data\n",
    "def scores(labels, correct_labels):\n",
    "    correct = 0\n",
    "    total_predicted = 0\n",
    "    for word in labels:\n",
    "        if labels[word] == correct_labels[word]:\n",
    "            correct += 1\n",
    "        total_predicted += 1\n",
    "        \n",
    "    precision = correct / total\n",
    "\n",
    "\n",
    "def F_score(recall,precision):\n",
    "    v1=1/precision\n",
    "    v2=1/recall\n",
    "    f=2/(v1+v2)"
   ]
  }
 ],
 "metadata": {
  "kernelspec": {
   "display_name": "Python 3.10.12 64-bit",
   "language": "python",
   "name": "python3"
  },
  "language_info": {
   "codemirror_mode": {
    "name": "ipython",
    "version": 3
   },
   "file_extension": ".py",
   "mimetype": "text/x-python",
   "name": "python",
   "nbconvert_exporter": "python",
   "pygments_lexer": "ipython3",
   "version": "3.10.12"
  },
  "orig_nbformat": 4,
  "vscode": {
   "interpreter": {
    "hash": "bd385fe162c5ca0c84973b7dd5c518456272446b2b64e67c2a69f949ca7a1754"
   }
  }
 },
 "nbformat": 4,
 "nbformat_minor": 2
}
